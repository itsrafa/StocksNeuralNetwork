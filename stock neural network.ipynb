{
  "nbformat": 4,
  "nbformat_minor": 0,
  "metadata": {
    "colab": {
      "name": "Comp Stats Final Project.ipynb",
      "provenance": [],
      "collapsed_sections": []
    },
    "kernelspec": {
      "name": "python3",
      "display_name": "Python 3"
    }
  },
  "cells": [
    {
      "cell_type": "markdown",
      "metadata": {
        "id": "BVnV4rrYg1kg"
      },
      "source": [
        "Rafa Martinez-Avial Palazuelos\n"
      ]
    },
    {
      "cell_type": "markdown",
      "metadata": {
        "id": "2U4d_Jj6gmNm"
      },
      "source": [
        "# Predicting the price of a stock with a neural network"
      ]
    },
    {
      "cell_type": "markdown",
      "metadata": {
        "id": "A4tgXjL_b4rt"
      },
      "source": [
        "##Introduction\n",
        "In this project, I will be implementing a neural network in TensorFlow. The purpose of the neural network is to predict the price of a stock given time series data on its historical price. In particular, I will make the arbitrary choice to make it predict the price of the stock on a given day given the previous 60 days. In writing the following code, I found TensorFlow Core's tutorials on Keras and especially the Medium article \"Predicting stock prices using deep learning\" and the associated GitHub repository particularly helpful. A lot of the code and, in particular, the choice of layers of the neural network are borrowed from there (https://github.com/yacoubb/stock-trading-ml). "
      ]
    },
    {
      "cell_type": "markdown",
      "metadata": {
        "id": "TTsc5gaofsfM"
      },
      "source": [
        "##The dataset\n",
        "Apple is currently doing pretty well on the stock market. In fact, it's doing better than every other company ever. As a consequence, I wanted my neural network to study it. I downloaded a .csv file from Yahoo Finance that contained information about Apple's stock price from every day since its IPO in 1980: the opening price, daily high, daily low, closing price and volume of stocks traded in that day. The .csv file also contained a column for the day in question as well as a slight modification to the closing price. I, however, decided to eliminate these two variables from the dataframe that I  used to train my neural network. The following code contains the definition of a function which will read the .csv file containing the time series of the stock of interest, extract the relevant information and present it in a normalized format (between 0 and 1)."
      ]
    },
    {
      "cell_type": "code",
      "metadata": {
        "id": "argave2ygXdO"
      },
      "source": [
        "import pandas as pd\n",
        "from sklearn import preprocessing\n",
        "import numpy as np\n",
        "\n",
        "history_points = 60 #Number of days the neural network will use to predict the openining price of the next day\n",
        "\n",
        "def csv_to_dataset(csv_path):\n",
        "    data = pd.read_csv(csv_path)\n",
        "    data = data.drop('Date', axis=1)\n",
        "    data = data.drop('Adj Close', axis=1)\n",
        "    data = data.drop(0, axis=0)\n",
        "\n",
        "    data=data.values\n",
        "    data_normaliser = preprocessing.MinMaxScaler()\n",
        "    data_normalised = data_normaliser.fit_transform(data)\n",
        "    # using the last {history_points} open high low close volume data points, predict the next open value\n",
        "    ohlcv_histories_normalised =      np.array([data_normalised[i  : i + history_points].copy() for i in range(len(data_normalised) - history_points)])\n",
        "    next_day_open_values_normalised = np.array([data_normalised[:,0][i + history_points].copy() for i in range(len(data_normalised) - history_points)])\n",
        "    next_day_open_values_normalised = np.expand_dims(next_day_open_values_normalised, -1)\n",
        "    next_day_open_values = np.array([data[:, 0][i + history_points].copy() for i in range(len(data) - history_points)])\n",
        "    next_day_open_values = np.expand_dims(next_day_open_values, -1)\n",
        "    y_normaliser = preprocessing.MinMaxScaler()\n",
        "    y_normaliser.fit(next_day_open_values)\n",
        "    assert ohlcv_histories_normalised.shape[0] == next_day_open_values_normalised.shape[0]\n",
        "    return ohlcv_histories_normalised, next_day_open_values_normalised, next_day_open_values, y_normaliser\n"
      ],
      "execution_count": null,
      "outputs": []
    },
    {
      "cell_type": "markdown",
      "metadata": {
        "id": "cvhbck5-jq1p"
      },
      "source": [
        "The objects outputted by the function above are:\n",
        "\n",
        "*   An array whose entries represent the price of the stock for the 60 days preceeding each of the days of the time series, but normalized.\n",
        "*   An array representing the opening price of the stock for each of the day in the time series, again normalized.\n",
        "*   An array containing the unnormalized open day values.\n",
        "*   A function which will rescale data according to the particular scale of the previous array.\n",
        "\n"
      ]
    },
    {
      "cell_type": "markdown",
      "metadata": {
        "id": "crF719ptkjTw"
      },
      "source": [
        "Now I will apply the function to the Apple .csv file (named 'AAPL.csv') and split it up into a training set and a testing set."
      ]
    },
    {
      "cell_type": "code",
      "metadata": {
        "colab": {
          "base_uri": "https://localhost:8080/"
        },
        "id": "4DUqmiPmlunP",
        "outputId": "c2bdfeee-d3b5-47b9-f4a4-f7847be06799"
      },
      "source": [
        "import keras\n",
        "import tensorflow as tf\n",
        "from keras.models import Model\n",
        "from keras.layers import Dense, Dropout, LSTM, Input, Activation\n",
        "from keras import optimizers\n",
        "import numpy as np\n",
        "np.random.seed(4)\n",
        "\n",
        "ohlcv_histories, next_day_open_values, unscaled_y, y_normaliser=csv_to_dataset('AAPL.csv')\n",
        "test_split = 0.9\n",
        "n = int(ohlcv_histories.shape[0] * test_split) #Size of the training set given corresponding to the specified ratio given the size of the data\n",
        "\n",
        "ohlcv_train = ohlcv_histories[:n]\n",
        "y_train = next_day_open_values[:n]\n",
        "\n",
        "ohlcv_test = ohlcv_histories[n:]\n",
        "y_test = next_day_open_values[n:]\n",
        "\n",
        "unscaled_y_test = unscaled_y[n:]\n",
        "\n",
        "print(ohlcv_train.shape)\n",
        "print(ohlcv_test.shape)\n",
        "\n",
        "\n",
        "\n"
      ],
      "execution_count": null,
      "outputs": [
        {
          "output_type": "stream",
          "text": [
            "(9018, 60, 5)\n",
            "(1002, 60, 5)\n"
          ],
          "name": "stdout"
        }
      ]
    },
    {
      "cell_type": "markdown",
      "metadata": {
        "id": "xlmHZ2LKm2Nx"
      },
      "source": [
        "We see that the arrays representing the training and testing sets have identical formats yet different lengths, just as desired. Now we're ready to build the actual neural network."
      ]
    },
    {
      "cell_type": "markdown",
      "metadata": {
        "id": "uZt8ermhnQqa"
      },
      "source": [
        "## The model\n",
        "The choice of neural network that I made is the simplest one that worked for Yacoub Ahmed's implementation. It contains:\n",
        "\n",
        "* A layer of 50 Long Short Term Memory cells (LSTMs). These are like small neural networks with the characteristic that they hold a memory of their previous state. This is particularly useful in the statistical analysis of non-Markovian time series.\n",
        "* A dropout layer which introduces artificial noise to prevent overfitting\n",
        "* A few dense layers, which are the normal type of layer in a neural network. They simply find patterns in the previous layer and try to feed them into the next one.\n",
        "* Two activation layers. The first one undoes the normalizing of the data stored up until it via a sigmoid function. The second one is a linear activation, so it amplifies linearly the output of the last dense layer."
      ]
    },
    {
      "cell_type": "code",
      "metadata": {
        "id": "jm1kihoDHaSz"
      },
      "source": [
        "# model architecture\n",
        "lstm_input = Input(shape=(history_points, 5), name='lstm_input')\n",
        "x = LSTM(50, name='lstm_0')(lstm_input)\n",
        "x = Dropout(0.2, name='lstm_dropout_0')(x)\n",
        "x = Dense(64, name='dense_0')(x)\n",
        "x = Activation('sigmoid', name='sigmoid_0')(x)\n",
        "x = Dense(1, name='dense_1')(x)\n",
        "output = Activation('linear', name='linear_output')(x)\n",
        "model = Model(inputs=lstm_input, outputs=output)"
      ],
      "execution_count": null,
      "outputs": []
    },
    {
      "cell_type": "markdown",
      "metadata": {
        "id": "7MojqiIbpN7K"
      },
      "source": [
        "When I first ran this neural network on my Apple data, I kept getting NaN values for the loss function. This frustrated me for a long time until I realized that the data I was feeding into its training also contained NaN. The following lines converts those entries into zeroes."
      ]
    },
    {
      "cell_type": "code",
      "metadata": {
        "id": "QC_Xtsc2SrW4"
      },
      "source": [
        "ohlcv_train=np.nan_to_num(ohlcv_train)\n",
        "y_train=np.nan_to_num(y_train)"
      ],
      "execution_count": null,
      "outputs": []
    },
    {
      "cell_type": "markdown",
      "metadata": {
        "id": "GxBW6mRapgoy"
      },
      "source": [
        "The following lines of code train the model created above to fit the training data as well as possible. It does so by means of 50 epochs of stochastic gradient descent, which you can read more about in Siddharth's final project!"
      ]
    },
    {
      "cell_type": "code",
      "metadata": {
        "colab": {
          "base_uri": "https://localhost:8080/"
        },
        "id": "Pk4XA1stH3zU",
        "outputId": "8453dec6-0b14-4f2f-8c24-88427a8c403a"
      },
      "source": [
        "adam = optimizers.Adam(lr=0.0005)\n",
        "model.compile(optimizer=adam, loss='mse')\n",
        "model.fit(x=ohlcv_train,y=y_train, batch_size=32, epochs=50, shuffle=True, validation_split=0.1)\n",
        "evaluation = model.evaluate(ohlcv_test, y_test)\n",
        "print(evaluation)"
      ],
      "execution_count": null,
      "outputs": [
        {
          "output_type": "stream",
          "text": [
            "Epoch 1/50\n",
            "254/254 [==============================] - 7s 27ms/step - loss: 0.0133 - val_loss: 1.8289e-04\n",
            "Epoch 2/50\n",
            "254/254 [==============================] - 6s 25ms/step - loss: 7.9395e-05 - val_loss: 1.1772e-04\n",
            "Epoch 3/50\n",
            "254/254 [==============================] - 7s 26ms/step - loss: 4.8248e-05 - val_loss: 5.8115e-05\n",
            "Epoch 4/50\n",
            "254/254 [==============================] - 7s 26ms/step - loss: 3.3651e-05 - val_loss: 1.2189e-04\n",
            "Epoch 5/50\n",
            "254/254 [==============================] - 7s 26ms/step - loss: 2.6010e-05 - val_loss: 4.1163e-05\n",
            "Epoch 6/50\n",
            "254/254 [==============================] - 7s 26ms/step - loss: 2.1261e-05 - val_loss: 3.2362e-05\n",
            "Epoch 7/50\n",
            "254/254 [==============================] - 7s 26ms/step - loss: 1.8683e-05 - val_loss: 3.2163e-05\n",
            "Epoch 8/50\n",
            "254/254 [==============================] - 7s 27ms/step - loss: 1.5433e-05 - val_loss: 3.2599e-05\n",
            "Epoch 9/50\n",
            "254/254 [==============================] - 7s 27ms/step - loss: 1.3379e-05 - val_loss: 5.7446e-05\n",
            "Epoch 10/50\n",
            "254/254 [==============================] - 7s 27ms/step - loss: 1.3070e-05 - val_loss: 2.8913e-05\n",
            "Epoch 11/50\n",
            "254/254 [==============================] - 7s 29ms/step - loss: 1.2539e-05 - val_loss: 7.6499e-05\n",
            "Epoch 12/50\n",
            "254/254 [==============================] - 7s 27ms/step - loss: 1.1865e-05 - val_loss: 4.4010e-05\n",
            "Epoch 13/50\n",
            "254/254 [==============================] - 7s 26ms/step - loss: 1.1466e-05 - val_loss: 4.5759e-05\n",
            "Epoch 14/50\n",
            "254/254 [==============================] - 7s 26ms/step - loss: 1.0521e-05 - val_loss: 6.1770e-05\n",
            "Epoch 15/50\n",
            "254/254 [==============================] - 8s 30ms/step - loss: 1.1256e-05 - val_loss: 4.1915e-05\n",
            "Epoch 16/50\n",
            "254/254 [==============================] - 7s 29ms/step - loss: 9.5524e-06 - val_loss: 1.3919e-04\n",
            "Epoch 17/50\n",
            "254/254 [==============================] - 7s 28ms/step - loss: 1.1052e-05 - val_loss: 4.5749e-05\n",
            "Epoch 18/50\n",
            "254/254 [==============================] - 7s 27ms/step - loss: 9.9889e-06 - val_loss: 3.3940e-05\n",
            "Epoch 19/50\n",
            "254/254 [==============================] - 7s 29ms/step - loss: 1.0282e-05 - val_loss: 3.6881e-05\n",
            "Epoch 20/50\n",
            "254/254 [==============================] - 7s 28ms/step - loss: 1.1424e-05 - val_loss: 1.0145e-04\n",
            "Epoch 21/50\n",
            "254/254 [==============================] - 7s 27ms/step - loss: 9.1784e-06 - val_loss: 4.3297e-05\n",
            "Epoch 22/50\n",
            "254/254 [==============================] - 7s 27ms/step - loss: 1.0394e-05 - val_loss: 3.4851e-05\n",
            "Epoch 23/50\n",
            "254/254 [==============================] - 7s 28ms/step - loss: 9.6167e-06 - val_loss: 2.6882e-05\n",
            "Epoch 24/50\n",
            "254/254 [==============================] - 7s 27ms/step - loss: 1.0226e-05 - val_loss: 4.1780e-05\n",
            "Epoch 25/50\n",
            "254/254 [==============================] - 7s 28ms/step - loss: 1.0227e-05 - val_loss: 3.5703e-05\n",
            "Epoch 26/50\n",
            "254/254 [==============================] - 7s 28ms/step - loss: 9.0066e-06 - val_loss: 2.4647e-05\n",
            "Epoch 27/50\n",
            "254/254 [==============================] - 7s 28ms/step - loss: 8.7636e-06 - val_loss: 2.0289e-05\n",
            "Epoch 28/50\n",
            "254/254 [==============================] - 7s 28ms/step - loss: 1.0524e-05 - val_loss: 2.8769e-05\n",
            "Epoch 29/50\n",
            "254/254 [==============================] - 7s 28ms/step - loss: 9.1299e-06 - val_loss: 1.2634e-04\n",
            "Epoch 30/50\n",
            "254/254 [==============================] - 7s 27ms/step - loss: 1.0334e-05 - val_loss: 2.5312e-05\n",
            "Epoch 31/50\n",
            "254/254 [==============================] - 7s 28ms/step - loss: 9.8084e-06 - val_loss: 2.7125e-05\n",
            "Epoch 32/50\n",
            "254/254 [==============================] - 7s 28ms/step - loss: 9.4611e-06 - val_loss: 1.7440e-05\n",
            "Epoch 33/50\n",
            "254/254 [==============================] - 7s 27ms/step - loss: 1.1736e-05 - val_loss: 3.3917e-05\n",
            "Epoch 34/50\n",
            "254/254 [==============================] - 7s 27ms/step - loss: 1.0873e-05 - val_loss: 1.8480e-05\n",
            "Epoch 35/50\n",
            "254/254 [==============================] - 7s 27ms/step - loss: 1.0553e-05 - val_loss: 5.4761e-05\n",
            "Epoch 36/50\n",
            "254/254 [==============================] - 7s 28ms/step - loss: 1.0199e-05 - val_loss: 2.3561e-05\n",
            "Epoch 37/50\n",
            "254/254 [==============================] - 7s 28ms/step - loss: 1.0453e-05 - val_loss: 3.9162e-05\n",
            "Epoch 38/50\n",
            "254/254 [==============================] - 7s 27ms/step - loss: 1.0281e-05 - val_loss: 8.4536e-05\n",
            "Epoch 39/50\n",
            "254/254 [==============================] - 7s 27ms/step - loss: 1.1120e-05 - val_loss: 2.4033e-05\n",
            "Epoch 40/50\n",
            "254/254 [==============================] - 7s 27ms/step - loss: 1.1114e-05 - val_loss: 2.7642e-05\n",
            "Epoch 41/50\n",
            "254/254 [==============================] - 7s 28ms/step - loss: 1.0949e-05 - val_loss: 2.6555e-05\n",
            "Epoch 42/50\n",
            "254/254 [==============================] - 7s 28ms/step - loss: 1.0499e-05 - val_loss: 1.9834e-05\n",
            "Epoch 43/50\n",
            "254/254 [==============================] - 7s 27ms/step - loss: 1.0007e-05 - val_loss: 1.5022e-05\n",
            "Epoch 44/50\n",
            "254/254 [==============================] - 7s 28ms/step - loss: 9.5976e-06 - val_loss: 1.2414e-05\n",
            "Epoch 45/50\n",
            "254/254 [==============================] - 7s 27ms/step - loss: 9.0279e-06 - val_loss: 2.7634e-05\n",
            "Epoch 46/50\n",
            "254/254 [==============================] - 7s 28ms/step - loss: 9.8738e-06 - val_loss: 3.9289e-05\n",
            "Epoch 47/50\n",
            "254/254 [==============================] - 7s 27ms/step - loss: 1.1768e-05 - val_loss: 1.4506e-05\n",
            "Epoch 48/50\n",
            "254/254 [==============================] - 7s 28ms/step - loss: 9.2640e-06 - val_loss: 2.4759e-05\n",
            "Epoch 49/50\n",
            "254/254 [==============================] - 7s 28ms/step - loss: 9.4188e-06 - val_loss: 1.9572e-05\n",
            "Epoch 50/50\n",
            "254/254 [==============================] - 7s 28ms/step - loss: 9.6313e-06 - val_loss: 7.0731e-05\n",
            "32/32 [==============================] - 0s 7ms/step - loss: 0.0016\n",
            "0.0015522752655670047\n"
          ],
          "name": "stdout"
        }
      ]
    },
    {
      "cell_type": "markdown",
      "metadata": {
        "id": "UCXTxOzjqBJb"
      },
      "source": [
        "The number outputted at the very end is the final mean squared error of our predictions. It seems very low, but it refers to the normalized data. In order to put intuitive bounds on it, we need to undo this normalization and find the scaled MSE instead."
      ]
    },
    {
      "cell_type": "code",
      "metadata": {
        "colab": {
          "base_uri": "https://localhost:8080/"
        },
        "id": "lhlSO-xAHe6q",
        "outputId": "e45a65f1-61cf-41fb-933d-aac49311fea2"
      },
      "source": [
        "\n",
        "\n",
        "y_test_predicted = model.predict(ohlcv_test)\n",
        "y_test_predicted = y_normaliser.inverse_transform(y_test_predicted)\n",
        "y_predicted = model.predict(ohlcv_histories)\n",
        "y_predicted = y_normaliser.inverse_transform(y_predicted)\n",
        "\n",
        "assert unscaled_y_test.shape == y_test_predicted.shape\n",
        "real_mse = np.mean(np.square(unscaled_y_test - y_test_predicted))\n",
        "scaled_mse = real_mse / (np.max(unscaled_y_test) - np.min(unscaled_y_test)) * 100\n",
        "print(scaled_mse)\n"
      ],
      "execution_count": null,
      "outputs": [
        {
          "output_type": "stream",
          "text": [
            "26.87435648849873\n"
          ],
          "name": "stdout"
        }
      ]
    },
    {
      "cell_type": "markdown",
      "metadata": {
        "id": "Mr3pk_Lfqdu-"
      },
      "source": [
        "We see that, on average, the value of the stock predicted by the neural network is approximately 5.18 dollars off from the market value. Not too shabby!"
      ]
    },
    {
      "cell_type": "code",
      "metadata": {
        "colab": {
          "base_uri": "https://localhost:8080/",
          "height": 863
        },
        "id": "JQt0xWzBaq8k",
        "outputId": "4f07f5f8-66d2-417a-ac3d-20bd0716f8ac"
      },
      "source": [
        "import matplotlib.pyplot as plt\n",
        "\n",
        "plt.gcf().set_size_inches(22, 15, forward=True)\n",
        "\n",
        "start = 0\n",
        "end = -1\n",
        "\n",
        "#real = plt.plot(unscaled_y_test[start:end], label='real')\n",
        "#pred = plt.plot(y_test_predicted[start:end], label='predicted')\n",
        "\n",
        "real = plt.plot(unscaled_y[start:end], label='real')\n",
        "pred = plt.plot(y_predicted[start:end], label='predicted')\n",
        "plt.vlines(9027, 0, 140)\n",
        "       \n",
        "plt.legend(['Real', 'Predicted'])\n",
        "\n",
        "plt.show()"
      ],
      "execution_count": null,
      "outputs": [
        {
          "output_type": "display_data",
          "data": {
            "image/png": "[encoded data removed]",
            "text/plain": [
              "<Figure size 1584x1080 with 1 Axes>"
            ]
          },
          "metadata": {
            "tags": [],
            "needs_background": "light"
          }
        }
      ]
    },
    {
      "cell_type": "markdown",
      "metadata": {
        "id": "cIUgloyVqzYJ"
      },
      "source": [
        "## Conclusion\n",
        "As seen in the graph above, our neural network did at least a decent job at predicting the price of the stock. The vertical line separates the training set from the testing set. As expected, the neural network had a better overall performance in the training set but its performance in the testing set was still pretty good. Due to the inherently unpredictable and erratic nature of stock prices, I wasn't expecting anything better.\n",
        "\n",
        "I have now shown that Deep Learning can be a fairly effective tool in financial modeling. This is probably partially due to the fact that deep learning is effective at picking up underlying patterns that can't be modeled through theory, as is the case with the irrational behavior and unpredictable phenomena that has such a high impact on the value of a stock's price. In the process of demonstrating this, I've gotten to learn TensorFlow as well as Numpy and Pandas!"
      ]
    }
  ]
}